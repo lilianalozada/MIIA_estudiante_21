{
 "cells": [
  {
   "cell_type": "markdown",
   "metadata": {
    "deletable": false,
    "editable": false,
    "nbgrader": {
     "cell_type": "markdown",
     "checksum": "2885e0668515238b95ca13b23f6579df",
     "grade": false,
     "grade_id": "header",
     "locked": true,
     "schema_version": 3,
     "solution": false,
     "task": false
    }
   },
   "source": [
    "<img src=\"Archivos/miad4.png\" width=800x>\n",
    "\n",
    "# Fundamentos de ciencia de datos\n",
    "\n",
    "En este taller implementarás modelos de *machine learning* para resolver diversos problemas.\n",
    "\n",
    "## Habilidades en práctica\n",
    "Al desarrollar este taller podrás verificar tu progreso para:\n",
    "\n",
    "**1.** Diferenciar los tipos de modelos de *machine learning* que ofrece Scikit Learn y sus casos de uso comunes.<br>\n",
    "**2.** Construir, entrenar y analizar los resultados de modelos básicos de *machine learning* en Scikit Learn.\n",
    "\n",
    "## Instrucciones\n",
    "En cada uno de los siguientes ejercicios deberás escribir el código solicitado estrictamente en las celdas indicadas para ello, teniendo en cuenta las siguientes recomendaciones:\n",
    "\n",
    "* No crear, eliminar o modificar celdas de este Notebook (salvo lo que se te indique), pues puede verse afectado el proceso de calificación automática.\n",
    "* La calificación se realiza de manera automática con datos diferentes a los proporcionados en este taller. Por consiguiente, tu código debe funcionar para diferentes instancias de cada uno de los ejercicios; una instancia hace referencia al valor de los parámetros.\n",
    "* La calificación de cada ejercicio depende del valor que retorne la función especificada en su enunciado. Por lo tanto, aunque implementes funciones adicionales, es escencial que utilices los nombres propuestos en los enunciados de los ejercicios para implementar la función definitiva.\n",
    "\n",
    "Esta es una actividad calificada y, por lo tanto, debe ser resuelta individualmente."
   ]
  },
  {
   "cell_type": "markdown",
   "metadata": {
    "deletable": false,
    "editable": false,
    "nbgrader": {
     "cell_type": "markdown",
     "checksum": "5c56eb46fe40c57e4c2a257789b638a9",
     "grade": false,
     "grade_id": "bloque-ejer",
     "locked": true,
     "schema_version": 3,
     "solution": false,
     "task": false
    }
   },
   "source": [
    "## Ejercicios\n",
    "\n",
    "Importa todos los paquetes que consideres necesarios para el desarollo de este taller en la siguiente celda."
   ]
  },
  {
   "cell_type": "code",
   "execution_count": 1,
   "metadata": {
    "deletable": false,
    "editable": false,
    "nbgrader": {
     "cell_type": "code",
     "checksum": "5ca6fe9c3319b528610b77afa7fbaf47",
     "grade": false,
     "grade_id": "import",
     "locked": true,
     "schema_version": 3,
     "solution": false,
     "task": false
    }
   },
   "outputs": [],
   "source": [
    "# Esta celda no es modificable\n",
    "\n",
    "import numpy as np\n",
    "import pandas as pd\n",
    "from sklearn.model_selection import train_test_split\n",
    "from sklearn.linear_model import LinearRegression\n",
    "\n",
    "from pandas.testing import assert_frame_equal"
   ]
  },
  {
   "cell_type": "markdown",
   "metadata": {
    "deletable": false,
    "editable": false,
    "nbgrader": {
     "cell_type": "markdown",
     "checksum": "b9f74c35e760245e42d3611d6e0e6472",
     "grade": false,
     "grade_id": "ej1-enun-task",
     "locked": true,
     "schema_version": 3,
     "solution": false,
     "task": false
    }
   },
   "source": [
    "### Ejercicio 1\n",
    "\n",
    "A continuación, encuentras un archivo de Excel con el cual podrás probar tu solución."
   ]
  },
  {
   "cell_type": "code",
   "execution_count": 2,
   "metadata": {},
   "outputs": [],
   "source": [
    "archivo = pd.read_excel(\"Archivos/datosTaller.xlsx\")"
   ]
  },
  {
   "cell_type": "markdown",
   "metadata": {},
   "source": [
    "Implementa una función llamada `dividir_datos` que reciba un archivo de Excel por parámetro y lo almacene en un `DataFrame`. Luego, divida los datos en las variables independientes ($X$) y la variable de respuesta ($y$). Finalmente, retorna los datos en una tupla de la forma ($X$, $y$).\n",
    "En la celda siguiente debes efectuar el procedimiento necesario para construir la función que se ha pedido.\n",
    "\n",
    "**Nota:** la variable de respuesta se encuentra en la primera columna de los datos.\n",
    "\n",
    "*Esta función debe retornar una tupla de la forma ($X$, $y$) donde $X$ es un DataFrame y $y$ un Series*"
   ]
  },
  {
   "cell_type": "code",
   "execution_count": 6,
   "metadata": {
    "deletable": false,
    "nbgrader": {
     "cell_type": "code",
     "checksum": "36077906e0c130d2845e25e45c280f50",
     "grade": false,
     "grade_id": "ej1-sol",
     "locked": false,
     "schema_version": 3,
     "solution": true,
     "task": false
    }
   },
   "outputs": [
    {
     "data": {
      "text/plain": [
       "(    x1  x2  x3\n",
       " 0    6   3  22\n",
       " 1    8   1  35\n",
       " 2    6   2  41\n",
       " 3    4   2   3\n",
       " 4    5   1  18\n",
       " 5    7   4  18\n",
       " 6    8   5   9\n",
       " 7    7   5  30\n",
       " 8    6   3  16\n",
       " 9    7   5  47\n",
       " 10   6   4  50\n",
       " 11   5   4  11\n",
       " 12   3   4  42\n",
       " 13   5   4   1,\n",
       " 0      9\n",
       " 1      1\n",
       " 2      5\n",
       " 3      3\n",
       " 4      9\n",
       " 5      9\n",
       " 6      6\n",
       " 7      4\n",
       " 8      2\n",
       " 9     10\n",
       " 10     3\n",
       " 11     7\n",
       " 12     6\n",
       " 13     8\n",
       " Name: y, dtype: int64)"
      ]
     },
     "execution_count": 6,
     "metadata": {},
     "output_type": "execute_result"
    }
   ],
   "source": [
    "# YOUR CODE HERE\n",
    "def dividir_datos (archivo):\n",
    "    X = archivo.iloc[:,1:]\n",
    "    y = pd.Series(archivo.iloc[:,0])\n",
    "    return (X,y)\n",
    "\n",
    "dividir_datos (archivo)"
   ]
  },
  {
   "cell_type": "code",
   "execution_count": 7,
   "metadata": {
    "deletable": false,
    "editable": false,
    "nbgrader": {
     "cell_type": "code",
     "checksum": "19d2ef9ed1a4fde3efc1d00192efd778",
     "grade": true,
     "grade_id": "cell-227aa94ef8908f69",
     "locked": true,
     "points": 1,
     "schema_version": 3,
     "solution": false,
     "task": false
    }
   },
   "outputs": [
    {
     "name": "stdout",
     "output_type": "stream",
     "text": [
      "Felicidades, realizaste este ejercicio correctamente.\n"
     ]
    },
    {
     "name": "stderr",
     "output_type": "stream",
     "text": [
      "<ipython-input-7-02a105114de3>:24: DeprecationWarning: The default dtype for empty Series will be 'object' instead of 'float64' in a future version. Specify a dtype explicitly to silence this warning.\n",
      "  assert type(dividir_datos(archivo)[1]) == type(pd.Series()), f\"Tu función debe retornar un objeto de tipo '{type(pd.Series()).__name__}' como y.\"\n"
     ]
    }
   ],
   "source": [
    "## AUTO-CALIFICADOR\n",
    "\n",
    "# Base variables\n",
    "archivo_test = pd.read_excel(\"Archivos/datosTallerTest.xlsx\")\n",
    "\n",
    "# Caso 1: no existe la función.\n",
    "try:\n",
    "    dividir_datos\n",
    "    assert type(dividir_datos) == type(lambda:None)\n",
    "except:\n",
    "    raise NotImplementedError(\"No existe una función llamada dividir_datos.\",)\n",
    "    \n",
    "# Caso 2: la función es interrumpida por errores durante su ejecución.\n",
    "try:\n",
    "    dividir_datos(archivo)\n",
    "    dividir_datos(archivo_test)\n",
    "except:\n",
    "    raise RuntimeError(\"Tu función produce un error al ejecutarse.\")\n",
    "\n",
    "# Caso 3: no retorna un DataFrame como X.\n",
    "assert type(dividir_datos(archivo)[0]) == type(archivo), f\"Tu función debe retornar un objeto de tipo '{type(archivo).__name__}' como X.\"\n",
    "\n",
    "# Caso 4: no retorna un Series como y.\n",
    "assert type(dividir_datos(archivo)[1]) == type(pd.Series()), f\"Tu función debe retornar un objeto de tipo '{type(pd.Series()).__name__}' como y.\"\n",
    "\n",
    "# Caso 5: respuesta y\n",
    "assert dividir_datos(archivo)[1].mean() == 5.857142857142857 and dividir_datos(archivo)[1][6]==6, \"La variable de respuesta y es incorrecta.\"\n",
    "\n",
    "# Caso 6: respuesta X\n",
    "assert dividir_datos(archivo)[0].mean()[1] == 3.357142857142857 and dividir_datos(archivo)[0].iloc[5,1]==4, \"Los valores de X son incorrectos.\"\n",
    "\n",
    "# Caso 7: procedimiento incorrecto y\n",
    "assert dividir_datos(archivo_test)[1].mean() == 27.65 and dividir_datos(archivo_test)[1][6]==38, \"Tu respuesta de la variable de respuesta y es incorrecta para una instancia diferente de los datos.\"\n",
    "\n",
    "# Caso 8: procedimiento incorrecto X\n",
    "assert dividir_datos(archivo_test)[0].mean()[1] == 294.9 and dividir_datos(archivo_test)[0].iloc[5,3]==21, \"Tu respuesta para X es incorrecta para una instancia diferente de los datos.\"\n",
    "\n",
    "# Mensaje de felicitaciones\n",
    "print(\"Felicidades, realizaste este ejercicio correctamente.\")"
   ]
  },
  {
   "cell_type": "markdown",
   "metadata": {
    "deletable": false,
    "editable": false,
    "nbgrader": {
     "cell_type": "markdown",
     "checksum": "e0ab4f35069260e523575496cd3fb6d4",
     "grade": false,
     "grade_id": "ej2-enun-task",
     "locked": true,
     "schema_version": 3,
     "solution": false,
     "task": false
    }
   },
   "source": [
    "### Ejercicio 2\n",
    "\n",
    "A continuación, encuentras una tupla ($X$, $y$) con la cual podrás probar tu solución."
   ]
  },
  {
   "cell_type": "code",
   "execution_count": 8,
   "metadata": {},
   "outputs": [],
   "source": [
    "datos = pd.DataFrame({\"x1\":[6,8,6,4,5,7,8], \"x2\":[3,1,2,2,1,4,5], \"x3\":[22,35,41,3,18,18,9]}) ,pd.Series([9,1,5,3,9,9,6])"
   ]
  },
  {
   "cell_type": "markdown",
   "metadata": {},
   "source": [
    "Implementa una función llamada `crear_train_test` que reciba una tupla ($X$, $y$) por parámetro y realice una partición, 70% para entrenar al modelo y 30% para validarlo, con el fin de retornar una tupla de la forma (`X_train`, `X_test`, `y_train`, `y_test`). Usa el parámetro `random_state = 0` para que tus respuestas coincidan con las nuestras.\n",
    "\n",
    "*Esta función debe retornar una tupla de la forma (`X_train`, `X_test`, `y_train`, `y_test`) donde `X_train` y `X_test` son DataFrames y `y_train` y `y_test` son Series*"
   ]
  },
  {
   "cell_type": "code",
   "execution_count": 13,
   "metadata": {
    "deletable": false,
    "nbgrader": {
     "cell_type": "code",
     "checksum": "289eed4fea8e3d3881a1d30d07b70bbb",
     "grade": false,
     "grade_id": "ej2-sol",
     "locked": false,
     "schema_version": 3,
     "solution": true,
     "task": false
    }
   },
   "outputs": [],
   "source": [
    "# YOUR CODE HERE\n",
    "def crear_train_test(tupla_Xy):\n",
    "    X_train, X_test, y_train, y_test = train_test_split(tupla_Xy[0], tupla_Xy[1], test_size=0.3, random_state = 0)\n",
    "    return X_train, X_test, y_train, y_test\n",
    "\n",
    "    "
   ]
  },
  {
   "cell_type": "code",
   "execution_count": 14,
   "metadata": {
    "deletable": false,
    "editable": false,
    "nbgrader": {
     "cell_type": "code",
     "checksum": "338af2f179e7066695e086aa6ffff029",
     "grade": true,
     "grade_id": "cell-6dc325ef2789bcb1",
     "locked": true,
     "points": 1,
     "schema_version": 3,
     "solution": false,
     "task": false
    }
   },
   "outputs": [
    {
     "name": "stdout",
     "output_type": "stream",
     "text": [
      "Felicidades, realizaste este ejercicio correctamente.\n"
     ]
    },
    {
     "name": "stderr",
     "output_type": "stream",
     "text": [
      "<ipython-input-14-7a7654422173>:25: DeprecationWarning: The default dtype for empty Series will be 'object' instead of 'float64' in a future version. Specify a dtype explicitly to silence this warning.\n",
      "  assert type(crear_train_test(datos)[2]) == type(pd.Series()) and type(crear_train_test(datos)[3]) == type(pd.Series()), f\"Tu función debe retornar un objeto de tipo '{type(pd.Series()).__name__}' como y_train y y_test.\"\n"
     ]
    }
   ],
   "source": [
    "## AUTO-CALIFICADOR\n",
    "\n",
    "# Base variables\n",
    "archivo_test = pd.read_excel(\"Archivos/datosTallerTest.xlsx\")\n",
    "datos_test = (pd.DataFrame(archivo)[pd.DataFrame(archivo).columns[1:]], pd.DataFrame(archivo)[pd.DataFrame(archivo).columns[0]])\n",
    "\n",
    "# Caso 1: no existe la función.\n",
    "try:\n",
    "    crear_train_test\n",
    "    assert type(crear_train_test) == type(lambda:None)\n",
    "except:\n",
    "    raise NotImplementedError(\"No existe una función llamada crear_train_test.\",)\n",
    "    \n",
    "# Caso 2: la función es interrumpida por errores durante su ejecución.\n",
    "try:\n",
    "    crear_train_test(datos)\n",
    "    crear_train_test((pd.DataFrame(archivo)[pd.DataFrame(archivo).columns[1:]], pd.DataFrame(archivo)[pd.DataFrame(archivo).columns[0]]))\n",
    "except:\n",
    "    raise RuntimeError(\"Tu función produce un error al ejecutarse.\")\n",
    "\n",
    "# Caso 3: no retorna un DataFrame como X_train.\n",
    "assert type(crear_train_test(datos)[0]) == type(pd.DataFrame()) and type(crear_train_test(datos)[1]) == type(pd.DataFrame()), f\"Tu función debe retornar un objeto de tipo '{type(pd.DataFrame()).__name__}' como X_train y X_test.\"\n",
    "\n",
    "# Caso 4: no retorna un Series como y.\n",
    "assert type(crear_train_test(datos)[2]) == type(pd.Series()) and type(crear_train_test(datos)[3]) == type(pd.Series()), f\"Tu función debe retornar un objeto de tipo '{type(pd.Series()).__name__}' como y_train y y_test.\"\n",
    "\n",
    "# Caso 5: respuesta X_train\n",
    "assert crear_train_test(datos)[0].mean()[2] == 15.25 and crear_train_test(datos)[0].iloc[1,1]==3, \"Los valores de X_train son incorrectos.\"\n",
    "\n",
    "# Caso 6: respuesta X_test\n",
    "assert crear_train_test(datos)[1].mean()[2] == 28.333333333333332 and crear_train_test(datos)[1].iloc[1,1]==2, \"Los valores de X_test son incorrectos.\"\n",
    "\n",
    "# Caso 7: respuesta y_train\n",
    "assert crear_train_test(datos)[2].mean() == 7.5 and crear_train_test(datos)[2].iloc[3]==9, \"La variable de respuesta y_train es incorrecta.\"\n",
    "\n",
    "# Caso 8: respuesta y_test\n",
    "assert crear_train_test(datos)[3].mean() == 4.0 and crear_train_test(datos)[3].iloc[2]==1, \"La variable de respuesta y_test es incorrecta.\"\n",
    "\n",
    "# Caso 9: procedimiento incorrecto X_train\n",
    "assert crear_train_test(datos_test)[0].mean()[2] == 27.555555555555557 and crear_train_test(datos_test)[0].iloc[1,1]==5, \"Tu respuesta para X_train es incorrecta para una instancia diferente de los datos.\"\n",
    "\n",
    "# Caso 10: procedimiento incorrecto y_train\n",
    "assert crear_train_test(datos_test)[2].mean() == 5.888888888888889 and crear_train_test(datos_test)[2].iloc[3]==4, \"Tu respuesta de la variable de respuesta y_train es incorrecta para una instancia diferente de los datos.\"\n",
    "\n",
    "# Mensaje de felicitaciones\n",
    "print(\"Felicidades, realizaste este ejercicio correctamente.\")"
   ]
  },
  {
   "cell_type": "markdown",
   "metadata": {
    "deletable": false,
    "editable": false,
    "nbgrader": {
     "cell_type": "markdown",
     "checksum": "495f726bbc2bbe0bca5c18531de0e8b5",
     "grade": false,
     "grade_id": "ej3-enun-task",
     "locked": true,
     "schema_version": 3,
     "solution": false,
     "task": false
    }
   },
   "source": [
    "### Ejercicio 3\n",
    "\n",
    "A continuación, encuentras una tupla de la forma (`X_train`, `X_test`, `y_train`, `y_test`) con la cual podrás probar tu solución."
   ]
  },
  {
   "cell_type": "code",
   "execution_count": 48,
   "metadata": {},
   "outputs": [],
   "source": [
    "datos = (pd.DataFrame({\"x1\":[6,  8,  6,  4,  5,  7,  8],\n",
    "                       \"x2\":[3,  1,  2,  2,  1,  4,  5],\n",
    "                       \"x3\":[22, 35, 41, 3,  18, 18, 9]}),\n",
    "         pd.DataFrame({\"x1\":[7,  6,  5,  3,  5],\n",
    "                       \"x2\":[5,  4,  4,  4,  4],\n",
    "                       \"x3\":[47, 50, 11, 42, 1]}),\n",
    "         pd.Series([9,  1, 5, 3, 9, 9, 6]),\n",
    "         pd.Series([10, 3, 7, 6, 8]))"
   ]
  },
  {
   "cell_type": "markdown",
   "metadata": {},
   "source": [
    "Implementa una función llamada `crear_modelo` que reciba una tupla de la forma (`X_train`, `X_test`, `y_train`, `y_test`) por parámetro y cree un modelo de regresión lineal con el fin de explicar la variable de interés. Finalmente, retorna el modelo creado luego de entrenarlo con los datos recibidos por parámetro.\n",
    "\n",
    "*Esta función debe retornar un modelo de la librería `sklearn`*"
   ]
  },
  {
   "cell_type": "code",
   "execution_count": 54,
   "metadata": {
    "deletable": false,
    "nbgrader": {
     "cell_type": "code",
     "checksum": "e32e96e55bd4d8d3b7612a3b109d0ad9",
     "grade": false,
     "grade_id": "ej3-sol",
     "locked": false,
     "schema_version": 3,
     "solution": true,
     "task": false
    }
   },
   "outputs": [],
   "source": [
    "# YOUR CODE HERE\n",
    "from sklearn import linear_model\n",
    "\n",
    "def crear_modelo (datos):\n",
    "    lr = linear_model.LinearRegression()\n",
    "    lr.fit(datos[0],datos[2])\n",
    "    lr.predict(datos[0])\n",
    "    return lr\n",
    "\n",
    "Model = crear_modelo(datos)\n",
    "   "
   ]
  },
  {
   "cell_type": "code",
   "execution_count": 55,
   "metadata": {
    "deletable": false,
    "editable": false,
    "nbgrader": {
     "cell_type": "code",
     "checksum": "deb0709500097852554092a0acd86e0e",
     "grade": true,
     "grade_id": "cell-f455b320af3c665e",
     "locked": true,
     "points": 1,
     "schema_version": 3,
     "solution": false,
     "task": false
    }
   },
   "outputs": [
    {
     "ename": "AssertionError",
     "evalue": "Los coeficientes del modelo son incorrectos, revisa la implementación de la regresión.",
     "output_type": "error",
     "traceback": [
      "\u001b[1;31m---------------------------------------------------------------------------\u001b[0m",
      "\u001b[1;31mAssertionError\u001b[0m                            Traceback (most recent call last)",
      "\u001b[1;32m<ipython-input-55-bd010d78ce0d>\u001b[0m in \u001b[0;36m<module>\u001b[1;34m\u001b[0m\n\u001b[0;32m     24\u001b[0m \u001b[1;33m\u001b[0m\u001b[0m\n\u001b[0;32m     25\u001b[0m \u001b[1;31m# Caso 4: respuesta coef_\u001b[0m\u001b[1;33m\u001b[0m\u001b[1;33m\u001b[0m\u001b[1;33m\u001b[0m\u001b[0m\n\u001b[1;32m---> 26\u001b[1;33m \u001b[1;32massert\u001b[0m \u001b[0mcrear_modelo\u001b[0m\u001b[1;33m(\u001b[0m\u001b[0mdatos\u001b[0m\u001b[1;33m)\u001b[0m\u001b[1;33m.\u001b[0m\u001b[0mcoef_\u001b[0m\u001b[1;33m[\u001b[0m\u001b[1;36m0\u001b[0m\u001b[1;33m]\u001b[0m \u001b[1;33m==\u001b[0m \u001b[1;33m-\u001b[0m\u001b[1;36m1.2195141060248855\u001b[0m\u001b[1;33m,\u001b[0m \u001b[1;34m\"Los coeficientes del modelo son incorrectos, revisa la implementación de la regresión.\"\u001b[0m\u001b[1;33m\u001b[0m\u001b[1;33m\u001b[0m\u001b[0m\n\u001b[0m\u001b[0;32m     27\u001b[0m \u001b[1;33m\u001b[0m\u001b[0m\n\u001b[0;32m     28\u001b[0m \u001b[1;31m# Caso 5: respuesta intercept_\u001b[0m\u001b[1;33m\u001b[0m\u001b[1;33m\u001b[0m\u001b[1;33m\u001b[0m\u001b[0m\n",
      "\u001b[1;31mAssertionError\u001b[0m: Los coeficientes del modelo son incorrectos, revisa la implementación de la regresión."
     ]
    }
   ],
   "source": [
    "## AUTO-CALIFICADOR\n",
    "\n",
    "# Base variables\n",
    "archivo_test = pd.read_excel(\"Archivos/datosTallerTest.xlsx\")\n",
    "datos_test = (pd.DataFrame(archivo_test)[pd.DataFrame(archivo_test).columns[1:]], pd.DataFrame(archivo_test)[pd.DataFrame(archivo_test).columns[0]])\n",
    "datos_test = train_test_split(datos_test[0], datos_test[1], random_state=0)\n",
    "\n",
    "# Caso 1: no existe la función.\n",
    "try:\n",
    "    crear_modelo\n",
    "    assert type(crear_modelo) == type(lambda:None)\n",
    "except:\n",
    "    raise NotImplementedError(\"No existe una función llamada crear_modelo.\",)\n",
    "    \n",
    "# Caso 2: la función es interrumpida por errores durante su ejecución.\n",
    "try:\n",
    "    crear_modelo(datos)\n",
    "    #crear_modelo(archivo_test)\n",
    "except:\n",
    "    raise RuntimeError(\"Tu función produce un error al ejecutarse.\")\n",
    "\n",
    "# Caso 3: no retorna LinearRegression.\n",
    "assert type(crear_modelo(datos)) == type(LinearRegression()), f\"Tu función debe retornar un objeto de tipo '{type(LinearRegression()).__name__}'.\"\n",
    "\n",
    "# Caso 4: respuesta coef_\n",
    "assert crear_modelo(datos).coef_[0] == -1.2195141060248855, \"Los coeficientes del modelo son incorrectos, revisa la implementación de la regresión.\"\n",
    "\n",
    "# Caso 5: respuesta intercept_\n",
    "assert crear_modelo(datos).intercept_ == 7.996285638991168, \"El intercepto del modelo es incorrecto, revisa la implementación de la regresión..\"\n",
    "\n",
    "# Caso 6: procedimiento incorrecto coef_\n",
    "assert crear_modelo(datos_test).coef_[0] == -1.953081558461383, \"Los coeficientes del modelo son incorrectos para una instancia diferente de los datos.\"\n",
    "\n",
    "# Caso 7: procedimiento incorrecto\n",
    "assert crear_modelo(datos_test).intercept_ == 37.752378744745855, \"El intercepto del modelo es incorrecto para una instancia diferente de los datos.\"\n",
    "\n",
    "# Mensaje de felicitaciones\n",
    "print(\"Felicidades, realizaste este ejercicio correctamente.\")"
   ]
  },
  {
   "cell_type": "markdown",
   "metadata": {
    "deletable": false,
    "editable": false,
    "nbgrader": {
     "cell_type": "markdown",
     "checksum": "9c8189540c84200948bc19148abd20b2",
     "grade": false,
     "grade_id": "ej4-enun-task",
     "locked": true,
     "schema_version": 3,
     "solution": false,
     "task": false
    }
   },
   "source": [
    "### Ejercicio 4\n",
    "\n",
    "A continuación, encuentras un modelo de regresión lineal entrenado y una tupla de la forma (`X_train`, `X_test`, `y_train`, `y_test`) con la cual podrás probar tu solución. Para esto se usará la librería `pickle` la cual permite almacenar y cargar modelos."
   ]
  },
  {
   "cell_type": "code",
   "execution_count": 56,
   "metadata": {},
   "outputs": [
    {
     "name": "stderr",
     "output_type": "stream",
     "text": [
      "C:\\Users\\mj7386\\AppData\\Roaming\\Python\\Python38\\site-packages\\sklearn\\base.py:329: UserWarning: Trying to unpickle estimator LinearRegression from version 0.22.2.post1 when using version 0.23.2. This might lead to breaking code or invalid results. Use at your own risk.\n",
      "  warnings.warn(\n"
     ]
    }
   ],
   "source": [
    "import pickle\n",
    "\n",
    "modelo = pickle.load(open(\"Archivos/modeloTaller\", 'rb'))\n",
    "datos = pd.DataFrame({\"x1\":[6,8,6,4,5,7,8], \"x2\":[3,1,2,2,1,4,5], \"x3\":[22,35,41,3,18,18,9]}) , pd.DataFrame({\"x1\":[7,6,5,3,5], \"x2\":[5,4,4,4,4], \"x3\":[47,50,11,42,1]}), pd.Series([9,1,5,3,9,9,6]), pd.Series([10,3,7,6,8])"
   ]
  },
  {
   "cell_type": "markdown",
   "metadata": {},
   "source": [
    "Implementa una función llamada `predecir` que reciba un modelo entrenado y una tupla de la forma (`X_train`, `X_test`, `y_train`, `y_test`) por parámetro y prediga la variable de interés a partir del conjunto de datos `X_test`. Finalmente, la función debe retornar la predicción hecha. \n",
    "\n",
    "*Esta función debe retornar un arreglo de `numpy` con las predicciones hechas*"
   ]
  },
  {
   "cell_type": "code",
   "execution_count": null,
   "metadata": {
    "deletable": false,
    "nbgrader": {
     "cell_type": "code",
     "checksum": "ab1b934e5066adf602438708d3c79811",
     "grade": false,
     "grade_id": "ej4-sol",
     "locked": false,
     "schema_version": 3,
     "solution": true,
     "task": false
    }
   },
   "outputs": [],
   "source": [
    "# YOUR CODE HERE\n",
    "raise NotImplementedError()"
   ]
  },
  {
   "cell_type": "code",
   "execution_count": null,
   "metadata": {
    "deletable": false,
    "editable": false,
    "nbgrader": {
     "cell_type": "code",
     "checksum": "7b22e3ecb459472935846805168d3ba4",
     "grade": true,
     "grade_id": "cell-6ded55b7e340e983",
     "locked": true,
     "points": 1,
     "schema_version": 3,
     "solution": false,
     "task": false
    }
   },
   "outputs": [],
   "source": [
    "## AUTO-CALIFICADOR\n",
    "\n",
    "# Base variables\n",
    "archivo_test = pd.read_excel(\"Archivos/datosTallerTest.xlsx\")\n",
    "datos_test = (pd.DataFrame(archivo)[pd.DataFrame(archivo).columns[1:]], pd.DataFrame(archivo)[pd.DataFrame(archivo).columns[0]])\n",
    "datos_test = train_test_split(datos_test[0], datos_test[1], random_state=0)\n",
    "\n",
    "# Caso 1: no existe la función.\n",
    "try:\n",
    "    predecir\n",
    "    assert type(predecir) == type(lambda:None)\n",
    "except:\n",
    "    raise NotImplementedError(\"No existe una función llamada predecir.\",)\n",
    "    \n",
    "# Caso 2: la función es interrumpida por errores durante su ejecución.\n",
    "try:\n",
    "    predecir(modelo, datos)\n",
    "    #crear_modelo(archivo_test)\n",
    "except:\n",
    "    raise RuntimeError(\"Tu función produce un error al ejecutarse.\")\n",
    "\n",
    "# Caso 3: no retorna un arreglo.\n",
    "assert type(predecir(modelo, datos)) == type(np.array(1)), f\"Tu función debe retornar un objeto de tipo '{type(np.array(1)).__name__}'.\"\n",
    "\n",
    "# Caso 4: respuesta len()\n",
    "assert len(predecir(modelo, datos)) == 5, \"La longitud del arreglo con los datos dados es incorrecta.\"\n",
    "\n",
    "# Caso 5: respuesta incorrecta\n",
    "assert predecir(modelo, datos).mean() == 10.627099878205998 and predecir(modelo, datos)[3] == 13.866931147214054 and predecir(modelo, datos)[1] == 10.803128182847708, \"Los valores de la solución son incorrectos, revisa la implementación de la función.\"\n",
    "\n",
    "# Caso 6: procedimiento incorrecto\n",
    "assert predecir(modelo, datos_test).mean() == 6.888353715429375 and predecir(modelo, datos_test)[3] == 9.123287939544587 and predecir(modelo, datos_test)[1] == 6.917762337875083, \"Los valores de la solución son incorrectos para una instancia diferente de los datos.\"\n",
    "\n",
    "# Mensaje de felicitaciones\n",
    "print(\"Felicidades, realizaste este ejercicio correctamente.\")"
   ]
  },
  {
   "cell_type": "markdown",
   "metadata": {
    "deletable": false,
    "editable": false,
    "nbgrader": {
     "cell_type": "markdown",
     "checksum": "721b95a9360457819031f08ce3b3fe41",
     "grade": false,
     "grade_id": "ej5-enun-task",
     "locked": true,
     "schema_version": 3,
     "solution": false,
     "task": false
    }
   },
   "source": [
    "### Ejercicio 5\n",
    "\n",
    "A continuación, encuentras un modelo de regresión lineal entrenado y una tupla de la forma (`X_test`, `y_test`) con la cual podrás probar tu solución. Para esto se usará la librería `pickle` la cual permite almacenar y cargar modelos."
   ]
  },
  {
   "cell_type": "code",
   "execution_count": null,
   "metadata": {},
   "outputs": [],
   "source": [
    "import pickle\n",
    "\n",
    "modelo = pickle.load(open(\"Archivos/modeloTaller\", 'rb'))\n",
    "X_test = pd.DataFrame({\"x1\":[7,6,5,3,5], \"x2\":[5,4,4,4,4], \"x3\":[47,50,11,42,1]})\n",
    "y_test = pd.Series([10,3,7,6,8])"
   ]
  },
  {
   "cell_type": "markdown",
   "metadata": {},
   "source": [
    "Implementa una función llamada `calcular_precision` que reciba un modelo entrenado, y una tupla de la forma ($X$_$test$, $y$_$test$) por parámetro y retorne el score $R^2$ del modelo.\n",
    "\n",
    "*Esta función debe retornar un valor númerico*"
   ]
  },
  {
   "cell_type": "code",
   "execution_count": null,
   "metadata": {
    "deletable": false,
    "nbgrader": {
     "cell_type": "code",
     "checksum": "b43106e57f785bab57014974dcebd285",
     "grade": false,
     "grade_id": "ej5-sol",
     "locked": false,
     "schema_version": 3,
     "solution": true,
     "task": false
    }
   },
   "outputs": [],
   "source": [
    "# YOUR CODE HERE\n",
    "raise NotImplementedError()"
   ]
  },
  {
   "cell_type": "code",
   "execution_count": null,
   "metadata": {
    "deletable": false,
    "editable": false,
    "nbgrader": {
     "cell_type": "code",
     "checksum": "083361499c2b9f976a26ebbf8d9df24a",
     "grade": true,
     "grade_id": "cell-130533cb52f7f989",
     "locked": true,
     "points": 1,
     "schema_version": 3,
     "solution": false,
     "task": false
    }
   },
   "outputs": [],
   "source": [
    "## AUTO-CALIFICADOR\n",
    "\n",
    "# Base variables\n",
    "archivo_test = pd.read_excel(\"Archivos/datosTallerTest.xlsx\")\n",
    "datos_test = (pd.DataFrame(archivo)[pd.DataFrame(archivo).columns[1:]], pd.DataFrame(archivo)[pd.DataFrame(archivo).columns[0]])\n",
    "datos_test = train_test_split(datos_test[0], datos_test[1], random_state=0)\n",
    "\n",
    "# Caso 1: no existe la función.\n",
    "try:\n",
    "    calcular_precision\n",
    "    assert type(calcular_precision) == type(lambda:None)\n",
    "except:\n",
    "    raise NotImplementedError(\"No existe una función llamada calcular_precision.\",)\n",
    "    \n",
    "# Caso 2: la función es interrumpida por errores durante su ejecución.\n",
    "try:\n",
    "    calcular_precision(modelo, X_test, y_test)\n",
    "    #crear_modelo(archivo_test)\n",
    "except:\n",
    "    raise RuntimeError(\"Tu función produce un error al ejecutarse.\")\n",
    "\n",
    "# Caso 3: no retorna un float.\n",
    "assert type(calcular_precision(modelo, X_test, y_test)) == np.float64, f\"Tu función debe retornar un objeto de tipo '{np.float64.__name__}'.\"\n",
    "\n",
    "# Caso 4: respuesta incorrecta\n",
    "assert calcular_precision(modelo, X_test, y_test) == -3.7894053047960226, \"La respuesta de la precisión es incorrecta.\"\n",
    "\n",
    "# Caso 5: procedimiento incorrecto\n",
    "assert calcular_precision(modelo, datos_test[1], datos_test[3]) == -0.7120120937366505, \"El valor de la precisión es incorrecto para una instancia diferente de los datos.\"\n",
    "\n",
    "# Mensaje de felicitaciones\n",
    "print(\"Felicidades, realizaste este ejercicio correctamente.\")"
   ]
  },
  {
   "cell_type": "markdown",
   "metadata": {
    "deletable": false,
    "editable": false,
    "nbgrader": {
     "cell_type": "markdown",
     "checksum": "fe305b1aae0a35ce62893aa24e6bdc5d",
     "grade": false,
     "grade_id": "creds",
     "locked": true,
     "schema_version": 3,
     "solution": false,
     "task": false
    }
   },
   "source": [
    "## Créditos\n",
    "\n",
    "__Autor(es)__: Ariadna de Ávila, Camilo Falla Moreno, Juan David Reyes Jaimes, Diego Alejandro Cely Gómez\n",
    " \n",
    " __Fecha última actualización__: 26/08/2021"
   ]
  }
 ],
 "metadata": {
  "kernelspec": {
   "display_name": "Python 3",
   "language": "python",
   "name": "python3"
  },
  "language_info": {
   "codemirror_mode": {
    "name": "ipython",
    "version": 3
   },
   "file_extension": ".py",
   "mimetype": "text/x-python",
   "name": "python",
   "nbconvert_exporter": "python",
   "pygments_lexer": "ipython3",
   "version": "3.8.3"
  }
 },
 "nbformat": 4,
 "nbformat_minor": 4
}
